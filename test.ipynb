{
 "cells": [
  {
   "cell_type": "code",
   "execution_count": 11,
   "metadata": {},
   "outputs": [],
   "source": [
    "import pandas as pd\n",
    "import matplotlib.pyplot as plt"
   ]
  },
  {
   "cell_type": "code",
   "execution_count": 15,
   "metadata": {},
   "outputs": [
    {
     "name": "stdout",
     "output_type": "stream",
     "text": [
      "                              0                   1         2         3     \\\n",
      "Record Length      Sample Interval       Trigger Point       NaN       NaN   \n",
      "2.500000e+03          4.000000e-07  7.700000000000e+02       NaN       NaN   \n",
      "Unnamed: 2                     NaN                 NaN       NaN       NaN   \n",
      "  -0.000308000000        -0.000308           -0.000307 -0.000307 -0.000306   \n",
      "  -8.29440                 -8.2944             -8.2944   -8.2944   -8.2944   \n",
      "Unnamed: 5                     NaN                 NaN       NaN       NaN   \n",
      "\n",
      "                       4         5               6               7     \\\n",
      "Record Length           NaN    Source  Vertical Units  Vertical Scale   \n",
      "2.500000e+03            NaN       CH1               V    2.880000e+00   \n",
      "Unnamed: 2              NaN       NaN             NaN             NaN   \n",
      "  -0.000308000000 -0.000306 -0.000306       -0.000305       -0.000305   \n",
      "  -8.29440          -8.2944   -8.2944         -8.2944         -8.2944   \n",
      "Unnamed: 5              NaN       NaN             NaN             NaN   \n",
      "\n",
      "                              8                 9     ...      2489      2490  \\\n",
      "Record Length      Vertical Offset  Horizontal Units  ...       NaN       NaN   \n",
      "2.500000e+03          2.304000e-01                 s  ...       NaN       NaN   \n",
      "Unnamed: 2                     NaN               NaN  ...       NaN       NaN   \n",
      "  -0.000308000000        -0.000304         -0.000304  ...  0.000688  0.000688   \n",
      "  -8.29440                 -8.2944           -8.2944  ...     8.064     8.064   \n",
      "Unnamed: 5                     NaN               NaN  ...       NaN       NaN   \n",
      "\n",
      "                       2491      2492     2493     2494     2495      2496  \\\n",
      "Record Length           NaN       NaN      NaN      NaN      NaN       NaN   \n",
      "2.500000e+03            NaN       NaN      NaN      NaN      NaN       NaN   \n",
      "Unnamed: 2              NaN       NaN      NaN      NaN      NaN       NaN   \n",
      "  -0.000308000000  0.000689  0.000689  0.00069  0.00069  0.00069  0.000691   \n",
      "  -8.29440            8.064     8.064    8.064    8.064    8.064     8.064   \n",
      "Unnamed: 5              NaN       NaN      NaN      NaN      NaN       NaN   \n",
      "\n",
      "                       2497      2498  \n",
      "Record Length           NaN       NaN  \n",
      "2.500000e+03            NaN       NaN  \n",
      "Unnamed: 2              NaN       NaN  \n",
      "  -0.000308000000  0.000691  0.000692  \n",
      "  -8.29440            8.064     8.064  \n",
      "Unnamed: 5              NaN       NaN  \n",
      "\n",
      "[6 rows x 2499 columns]\n"
     ]
    },
    {
     "data": {
      "text/plain": [
       "[<matplotlib.lines.Line2D at 0x293452259d0>]"
      ]
     },
     "execution_count": 15,
     "metadata": {},
     "output_type": "execute_result"
    },
    {
     "data": {
      "image/png": "[encoded data removed]",
      "text/plain": [
       "<Figure size 640x480 with 1 Axes>"
      ]
     },
     "metadata": {},
     "output_type": "display_data"
    }
   ],
   "source": [
    "url = 'https://drive.google.com/file/d/1vQDpSM2UGgdHDjYQGS5HNqXJoMWVnZwL/view?usp=sharing'\n",
    "url='https://drive.google.com/uc?id=' + url.split('/')[-2]\n",
    "df = pd.read_csv(url)\n",
    "print(df.transpose())\n",
    "plt.plot(df[df.keys()[3]],df[df.keys()[4]])"
   ]
  }
 ],
 "metadata": {
  "kernelspec": {
   "display_name": "Python 3",
   "language": "python",
   "name": "python3"
  },
  "language_info": {
   "codemirror_mode": {
    "name": "ipython",
    "version": 3
   },
   "file_extension": ".py",
   "mimetype": "text/x-python",
   "name": "python",
   "nbconvert_exporter": "python",
   "pygments_lexer": "ipython3",
   "version": "3.11.5"
  }
 },
 "nbformat": 4,
 "nbformat_minor": 2
}
