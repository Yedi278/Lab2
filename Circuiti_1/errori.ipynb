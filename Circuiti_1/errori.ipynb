{
 "cells": [
  {
   "cell_type": "markdown",
   "metadata": {},
   "source": [
    "# Imports"
   ]
  },
  {
   "cell_type": "code",
   "execution_count": null,
   "metadata": {},
   "outputs": [],
   "source": [
    "try:\n",
    "  import iminuit\n",
    "  from iminuit import Minuit\n",
    "  from iminuit.cost import LeastSquares\n",
    "except:\n",
    "  Exception('Error Initialising Iminuit')"
   ]
  },
  {
   "cell_type": "code",
   "execution_count": 7,
   "metadata": {},
   "outputs": [],
   "source": [
    "from IPython.display import Latex\n",
    "import sympy as sp\n",
    "import scipy as sc\n",
    "import numpy as np\n",
    "import pandas as pd\n",
    "# %matplotlib inline\n",
    "import matplotlib.pyplot as plt\n",
    "# plt.style.use('seaborn-whitegrid')"
   ]
  },
  {
   "cell_type": "code",
   "execution_count": 1,
   "metadata": {},
   "outputs": [],
   "source": [
    "def sturges(data):\n",
    "  return int(1 + np.log2(len(data)))"
   ]
  },
  {
   "cell_type": "code",
   "execution_count": 2,
   "metadata": {},
   "outputs": [],
   "source": [
    "def grafico(x,y,xerr,yerr, title, xlabel='x', ylabel='y', save=False):\n",
    "\n",
    "  fig,ax = plt.subplots(1,1)\n",
    "\n",
    "  ax.scatter(x,y, c='k')\n",
    "  ax.errorbar(x,y,xerr=xerr,yerr=yerr,linestyle='None', color='k', markersize=8, capsize=5, alpha=0.5)\n",
    "  # ax.set_title(title)\n",
    "  ax.set_xlabel(xlabel)\n",
    "  ax.set_ylabel(ylabel)\n",
    "  if save:  plt.savefig(title+'.pdf')\n",
    "  return ax"
   ]
  },
  {
   "cell_type": "code",
   "execution_count": 3,
   "metadata": {},
   "outputs": [],
   "source": [
    "#function for removing Nan values from a numpy array\n",
    "def rNan(arr): return arr[~np.isnan(arr)]"
   ]
  },
  {
   "cell_type": "code",
   "execution_count": 4,
   "metadata": {},
   "outputs": [],
   "source": [
    "#@title Test ipotesi\n",
    "def chi_test(fval, ndof, x_limit = 40):\n",
    "  '''This funciton visualizes the chi2 test for a given chi2 value and degrees of freedom\n",
    "  Values\n",
    "  -------\n",
    "\n",
    "    `fval` : chi2 value\n",
    "\n",
    "    `ndof` : degrees of freedom\n",
    "    `x_limit` : chi2 value limit for integral (don't change)\n",
    "  '''\n",
    "\n",
    "  x = np.linspace(0,x_limit, 1000)\n",
    "  y = [sc.stats.chi2.pdf(i,df=ndof) for i in x]\n",
    "\n",
    "  section = np.arange(fval, x_limit)\n",
    "  plt.fill_between(section,sc.stats.chi2.pdf(section,df=ndof), alpha=.4)\n",
    "  plt.title('Test $\\chi^2$')\n",
    "  plt.xlabel(r'$\\chi^2$')\n",
    "  plt.ylabel('$pdf(\\chi^2)$')\n",
    "  plt.legend([r'$\\tilde\\chi^2$ '+f'= {round(fval/ndof,2)} \\n p-value = {round(1 - sc.stats.chi2.cdf(fval,ndof),3)*100}%'])\n",
    "  plt.plot(x,y)\n",
    "\n",
    "def t_test(tvalue, df,xlim = 7, alpha = 0.05 ):\n",
    "  '''This function visualizes the t Student test for a given t value and degrees of freedom\n",
    "    Values:\n",
    "    -------\n",
    "\n",
    "    `tvalue` : t Student test Value\n",
    "    `df` : dergrees of freedom\n",
    "    `xlim` : limit for integration (don't change)\n",
    "  '''\n",
    "\n",
    "  x = np.linspace(-xlim,xlim,2000)\n",
    "  y = [ sc.stats.t.pdf(i,df) for i in x]\n",
    "\n",
    "  section1 = np.linspace(-xlim,-tvalue)\n",
    "  plt.fill_between(section1,sc.stats.t.pdf(section1,df=df), alpha=.4, color='b')\n",
    "\n",
    "  section2 = np.linspace(tvalue, xlim)\n",
    "  plt.fill_between(section2,sc.stats.t.pdf(section2,df=df), alpha=.4, color='b')\n",
    "\n",
    "  # plt.title('t Test')\n",
    "  plt.xlabel(r't')\n",
    "  plt.ylabel('pdf(t)')\n",
    "  plt.legend([r'$\\alpha$'+f' = {round((1-sc.stats.t.cdf(tvalue,df=df))*2, 4)}'])\n",
    "  plt.plot(x,y)\n",
    "  return (1-sc.stats.t.cdf(tvalue,df=df))*2"
   ]
  },
  {
   "cell_type": "code",
   "execution_count": 5,
   "metadata": {},
   "outputs": [],
   "source": [
    "#@title Error Propagation no Covariance\n",
    "\n",
    "def formula_errori(parametri:str, formula:str, latex_ = False):\n",
    "\n",
    "    #convert from str to sympy\n",
    "    parametri = sp.sympify(parametri)\n",
    "    formula = sp.simplify(formula)\n",
    "    sigmas = sp.symbols([f'sigma_{var}' for var in parametri])\n",
    "    i,exp = 0,0\n",
    "\n",
    "    for val in parametri:\n",
    "\n",
    "        #squared partial derivatives and sigmas\n",
    "        exp += sp.diff(formula,val)**2 * sigmas[i]**2\n",
    "        i+=1\n",
    "\n",
    "    exp = sp.sqrt(exp)\n",
    "\n",
    "    if latex_: return '$'+sp.latex(exp)+'$'\n",
    "\n",
    "    return (exp)\n",
    "\n",
    "def valuta_errori(formula_errori:str, values:dict, errors:dict, x:dict=None):\n",
    "\n",
    "  #convert minuit values method to dict\n",
    "  params = values.keys()\n",
    "\n",
    "  #sustitute numerical values\n",
    "  expr = formula_errori.subs(values)\n",
    "\n",
    "  for val in errors:\n",
    "\n",
    "    #substitute numerical for sigmas\n",
    "    expr = expr.subs(f'sigma_{val}', errors[val])\n",
    "\n",
    "  if x != None: expr = expr.subs(x)\n",
    "\n",
    "  return expr"
   ]
  },
  {
   "cell_type": "code",
   "execution_count": 6,
   "metadata": {},
   "outputs": [],
   "source": [
    "# @title media pesata\n",
    "def media_pesata(x,err) -> tuple['media','sigma']:\n",
    "\n",
    "  x_ = np.array(x)\n",
    "  err_ = np.array(err)\n",
    "\n",
    "  if x_.shape != err_.shape:\n",
    "    raise Exception('Size mismatch, control arrays!')\n",
    "    return\n",
    "\n",
    "  s1,s2 = 0,0\n",
    "  for i,j in zip(x_,err_):\n",
    "\n",
    "    s1 += i/j**2\n",
    "    s2 += 1/j**2\n",
    "\n",
    "  media = s1/s2\n",
    "  sigma = np.sqrt(float(1/s2))\n",
    "\n",
    "  return media,sigma"
   ]
  },
  {
   "cell_type": "code",
   "execution_count": null,
   "metadata": {},
   "outputs": [],
   "source": [
    "from IPython.display import Latex\n",
    "import sympy as sp\n",
    "import scipy as sc\n",
    "import numpy as np\n",
    "import pandas as pd\n",
    "# %matplotlib inline\n",
    "import matplotlib.pyplot as plt\n",
    "# plt.style.use('seaborn-whitegrid')"
   ]
  },
  {
   "cell_type": "markdown",
   "metadata": {},
   "source": [
    "# "
   ]
  },
  {
   "cell_type": "code",
   "execution_count": 35,
   "metadata": {},
   "outputs": [
    {
     "data": {
      "text/latex": [
       "$\\displaystyle 1493533.79664479$"
      ],
      "text/plain": [
       "1493533.79664479"
      ]
     },
     "execution_count": 35,
     "metadata": {},
     "output_type": "execute_result"
    }
   ],
   "source": [
    "formula = 'R*Re/(R-Re)'\n",
    "parametri = 'R,Re'\n",
    "a = formula_errori(parametri, formula, latex_=False)\n",
    "b = valuta_errori(a, {'R':3.3e6, 'Re':2.4767e6}, {'R':3.3e6*.05, 'Re':0.002e6})\n",
    "b"
   ]
  },
  {
   "cell_type": "code",
   "execution_count": 26,
   "metadata": {},
   "outputs": [
    {
     "data": {
      "text/plain": [
       "'\\\\sqrt{\\\\frac{R^{4} \\\\sigma_{Re}^{2} + Re^{4} \\\\sigma_{R}^{2}}{\\\\left(R - Re\\\\right)^{4}}}'"
      ]
     },
     "execution_count": 26,
     "metadata": {},
     "output_type": "execute_result"
    }
   ],
   "source": [
    "a = formula_errori(parametri, formula, latex_=False)\n",
    "a = sp.simplify(a)\n",
    "sp.latex(a)"
   ]
  }
 ],
 "metadata": {
  "kernelspec": {
   "display_name": "Python 3",
   "language": "python",
   "name": "python3"
  },
  "language_info": {
   "codemirror_mode": {
    "name": "ipython",
    "version": 3
   },
   "file_extension": ".py",
   "mimetype": "text/x-python",
   "name": "python",
   "nbconvert_exporter": "python",
   "pygments_lexer": "ipython3",
   "version": "3.11.5"
  }
 },
 "nbformat": 4,
 "nbformat_minor": 2
}
