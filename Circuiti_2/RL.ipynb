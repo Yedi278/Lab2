{
 "cells": [
  {
   "cell_type": "code",
   "execution_count": null,
   "metadata": {},
   "outputs": [],
   "source": [
    "R_L = 39.4\n"
   ]
  },
  {
   "cell_type": "code",
   "execution_count": 1,
   "metadata": {},
   "outputs": [],
   "source": [
    "def V_RL(t,V_o,R,L,T, offset):\n",
    "    return V_o* 2*(np.exp(-t*R/L) / (1 + np.exp( -T*R/L) ) ) + offset\n",
    "\n",
    "def V_RL_2(t,V_o,R,L,T):\n",
    "    return V_o* 2*(np.exp(-(t-(T/2))*R/L) / (1 + np.exp( -T*R/L) ) )\n",
    "\n",
    "def V_RL_basic(t,V_o,tau,c):\n",
    "    return V_o*(np.exp(-t/tau))+c"
   ]
  }
 ],
 "metadata": {
  "kernelspec": {
   "display_name": "Python 3",
   "language": "python",
   "name": "python3"
  },
  "language_info": {
   "codemirror_mode": {
    "name": "ipython",
    "version": 3
   },
   "file_extension": ".py",
   "mimetype": "text/x-python",
   "name": "python",
   "nbconvert_exporter": "python",
   "pygments_lexer": "ipython3",
   "version": "3.11.6"
  }
 },
 "nbformat": 4,
 "nbformat_minor": 2
}
