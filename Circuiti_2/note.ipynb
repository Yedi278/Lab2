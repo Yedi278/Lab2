{
 "cells": [
  {
   "cell_type": "markdown",
   "metadata": {},
   "source": [
    "# Imports"
   ]
  },
  {
   "cell_type": "code",
   "execution_count": 68,
   "metadata": {},
   "outputs": [],
   "source": [
    "try:\n",
    "  import iminuit\n",
    "  from iminuit import Minuit\n",
    "  from iminuit.cost import LeastSquares\n",
    "except:\n",
    "  Exception('Error Initialising Iminuit')"
   ]
  },
  {
   "cell_type": "code",
   "execution_count": 69,
   "metadata": {},
   "outputs": [],
   "source": [
    "from IPython.display import Latex\n",
    "import sympy as sp\n",
    "import scipy as sc\n",
    "import numpy as np\n",
    "import pandas as pd\n",
    "# %matplotlib inline\n",
    "import matplotlib.pyplot as plt\n",
    "# plt.style.use('seaborn-whitegrid')"
   ]
  },
  {
   "cell_type": "markdown",
   "metadata": {},
   "source": [
    "# Funcs"
   ]
  },
  {
   "cell_type": "code",
   "execution_count": 70,
   "metadata": {},
   "outputs": [],
   "source": [
    "#function for removing Nan values from a numpy array\n",
    "def rNan(arr): return arr[~np.isnan(arr)]"
   ]
  },
  {
   "cell_type": "code",
   "execution_count": 71,
   "metadata": {},
   "outputs": [],
   "source": [
    "#@title Test ipotesi\n",
    "def chi_test(fval, ndof, x_limit = 40):\n",
    "  '''This funciton visualizes the chi2 test for a given chi2 value and degrees of freedom\n",
    "  Values\n",
    "  -------\n",
    "\n",
    "    `fval` : chi2 value\n",
    "\n",
    "    `ndof` : degrees of freedom\n",
    "    `x_limit` : chi2 value limit for integral (don't change)\n",
    "  '''\n",
    "\n",
    "  x = np.linspace(0,x_limit, 1000)\n",
    "  y = [sc.stats.chi2.pdf(i,df=ndof) for i in x]\n",
    "\n",
    "  section = np.arange(fval, x_limit)\n",
    "  plt.fill_between(section,sc.stats.chi2.pdf(section,df=ndof), alpha=.4)\n",
    "  plt.title('Test $\\chi^2$')\n",
    "  plt.xlabel(r'$\\chi^2$')\n",
    "  plt.ylabel('$pdf(\\chi^2)$')\n",
    "  plt.legend([r'$\\tilde\\chi^2$ '+f'= {round(fval/ndof,2)} \\n p-value = {round(1 - sc.stats.chi2.cdf(fval,ndof),3)*100}%'])\n",
    "  plt.plot(x,y)\n",
    "\n",
    "def t_test(tvalue, df,xlim = 7, alpha = 0.05 ):\n",
    "  '''This function visualizes the t Student test for a given t value and degrees of freedom\n",
    "    Values:\n",
    "    -------\n",
    "\n",
    "    `tvalue` : t Student test Value\n",
    "    `df` : dergrees of freedom\n",
    "    `xlim` : limit for integration (don't change)\n",
    "  '''\n",
    "\n",
    "  x = np.linspace(-xlim,xlim,2000)\n",
    "  y = [ sc.stats.t.pdf(i,df) for i in x]\n",
    "\n",
    "  section1 = np.linspace(-xlim,-tvalue)\n",
    "  plt.fill_between(section1,sc.stats.t.pdf(section1,df=df), alpha=.4, color='b')\n",
    "\n",
    "  section2 = np.linspace(tvalue, xlim)\n",
    "  plt.fill_between(section2,sc.stats.t.pdf(section2,df=df), alpha=.4, color='b')\n",
    "\n",
    "  # plt.title('t Test')\n",
    "  plt.xlabel(r't')\n",
    "  plt.ylabel('pdf(t)')\n",
    "  plt.legend([r'$\\alpha$'+f' = {round((1-sc.stats.t.cdf(tvalue,df=df))*2, 4)}'])\n",
    "  plt.plot(x,y)\n",
    "  return (1-sc.stats.t.cdf(tvalue,df=df))*2"
   ]
  },
  {
   "cell_type": "code",
   "execution_count": 72,
   "metadata": {},
   "outputs": [],
   "source": [
    "#@title Error Propagation no Covariance\n",
    "\n",
    "def formula_errori(parametri:str, formula:str, latex_ = False):\n",
    "\n",
    "    #convert from str to sympy\n",
    "    parametri = sp.sympify(parametri)\n",
    "    formula = sp.simplify(formula)\n",
    "    sigmas = sp.symbols([f'sigma_{var}' for var in parametri])\n",
    "    i,exp = 0,0\n",
    "\n",
    "    for val in parametri:\n",
    "\n",
    "        #squared partial derivatives and sigmas\n",
    "        exp += sp.diff(formula,val)**2 * sigmas[i]**2\n",
    "        i+=1\n",
    "\n",
    "    exp = sp.sqrt(exp)\n",
    "\n",
    "    if latex_: return '$'+sp.latex(exp)+'$'\n",
    "\n",
    "    return (exp)\n",
    "\n",
    "def valuta_errori(formula_errori:str, values:dict, errors:dict, x:dict=None):\n",
    "\n",
    "  #convert minuit values method to dict\n",
    "  params = values.keys()\n",
    "\n",
    "  #sustitute numerical values\n",
    "  expr = formula_errori.subs(values)\n",
    "\n",
    "  for val in errors:\n",
    "\n",
    "    #substitute numerical for sigmas\n",
    "    expr = expr.subs(f'sigma_{val}', errors[val])\n",
    "\n",
    "  if x != None: expr = expr.subs(x)\n",
    "\n",
    "  return expr"
   ]
  },
  {
   "cell_type": "code",
   "execution_count": 73,
   "metadata": {},
   "outputs": [],
   "source": [
    "# @title media pesata\n",
    "def media_pesata(x,err) -> tuple['media','sigma']:\n",
    "\n",
    "  x_ = np.array(x)\n",
    "  err_ = np.array(err)\n",
    "\n",
    "  if x_.shape != err_.shape:\n",
    "    raise Exception('Size mismatch, control arrays!')\n",
    "    return\n",
    "\n",
    "  s1,s2 = 0,0\n",
    "  for i,j in zip(x_,err_):\n",
    "\n",
    "    s1 += i/j**2\n",
    "    s2 += 1/j**2\n",
    "\n",
    "  media = s1/s2\n",
    "  sigma = np.sqrt(float(1/s2))\n",
    "\n",
    "  return media,sigma"
   ]
  },
  {
   "cell_type": "markdown",
   "metadata": {
    "vscode": {
     "languageId": "html"
    }
   },
   "source": []
  },
  {
   "cell_type": "markdown",
   "metadata": {
    "vscode": {
     "languageId": "html"
    }
   },
   "source": []
  },
  {
   "cell_type": "markdown",
   "metadata": {
    "vscode": {
     "languageId": "html"
    }
   },
   "source": []
  },
  {
   "cell_type": "markdown",
   "metadata": {},
   "source": [
    "# Data"
   ]
  },
  {
   "cell_type": "code",
   "execution_count": 74,
   "metadata": {},
   "outputs": [
    {
     "name": "stdout",
     "output_type": "stream",
     "text": [
      "dict_keys(['RC', 'RL', 'RLC_sovra', 'RLC_sotto', 'RLC_crit'])\n"
     ]
    }
   ],
   "source": [
    "data = 'https://docs.google.com/spreadsheets/d/10J8iO8non_Iq_K_8JXAtarPfYMNR1pZCf4Qn8pPsk_4/'\n",
    "df = pd.read_excel(data+'export?format=xlsx',sheet_name=None)\n",
    "print(df.keys())"
   ]
  },
  {
   "cell_type": "markdown",
   "metadata": {},
   "source": [
    "# RC"
   ]
  },
  {
   "cell_type": "code",
   "execution_count": 75,
   "metadata": {},
   "outputs": [],
   "source": [
    "def V_RC(t,V_o,R,C,T):\n",
    "    if V_o >0:\n",
    "        return V_o*( 1 - 2*(np.exp(-t/(R*C)) / (1+np.exp( -T/(R*C) ) ) ) )\n",
    "    else:\n",
    "        return V_o*( 1 - 2*(np.exp(- (t-(T/2)) /(R*C)) / (1+np.exp( -T/(R*C) ) ) ) )"
   ]
  },
  {
   "cell_type": "markdown",
   "metadata": {},
   "source": [
    "# RL"
   ]
  },
  {
   "cell_type": "code",
   "execution_count": 76,
   "metadata": {},
   "outputs": [],
   "source": [
    "def V_RL(t,V_o,R,L,T):\n",
    "    if V_o > 0:\n",
    "        return V_o* 2*(np.exp(-t*R/L) / (1 + np.exp( -T*R/L) ) )\n",
    "    else:\n",
    "        return V_o* 2*(np.exp(-(t-(T/2))*R/L) / (1 + np.exp( -T*R/L) ) )"
   ]
  },
  {
   "cell_type": "markdown",
   "metadata": {},
   "source": [
    "# RLC sottosmorzato"
   ]
  },
  {
   "cell_type": "code",
   "execution_count": 77,
   "metadata": {},
   "outputs": [],
   "source": [
    "def V_RLC_st(t,V_o,R,L,C):\n",
    "    '''tensione in regime sottosmorzato'''\n",
    "    betha = np.sqrt( (1/(L*C))**2 - (R/L)**2 )\n",
    "    return V_o*np.exp(-t*R/L)*np.sin(t*betha)"
   ]
  },
  {
   "cell_type": "markdown",
   "metadata": {},
   "source": [
    "# RLC sovrasmorzato "
   ]
  },
  {
   "cell_type": "code",
   "execution_count": 78,
   "metadata": {},
   "outputs": [],
   "source": [
    "def V_RLC_sv(t,V_o,R,L,C):\n",
    "    '''tensione in regime sovrasmorzato'''\n",
    "    betha = np.sqrt( (R/L)**2 - (1/(L*C))**2 )\n",
    "    return V_o*np.exp(-t*R/L)*[np.exp(t*betha) - np.exp(-t*betha)]"
   ]
  },
  {
   "cell_type": "markdown",
   "metadata": {},
   "source": [
    "# RLC critico"
   ]
  },
  {
   "cell_type": "code",
   "execution_count": 79,
   "metadata": {},
   "outputs": [],
   "source": [
    "def V_RLC_crt(t,V_o,R,L,C):\n",
    "    '''tensione in regime critico'''\n",
    "    return V_o*t*np.exp(-t*R/L)"
   ]
  }
 ],
 "metadata": {
  "kernelspec": {
   "display_name": "Python 3",
   "language": "python",
   "name": "python3"
  },
  "language_info": {
   "codemirror_mode": {
    "name": "ipython",
    "version": 3
   },
   "file_extension": ".py",
   "mimetype": "text/x-python",
   "name": "python",
   "nbconvert_exporter": "python",
   "pygments_lexer": "ipython3",
   "version": "3.11.5"
  }
 },
 "nbformat": 4,
 "nbformat_minor": 2
}
