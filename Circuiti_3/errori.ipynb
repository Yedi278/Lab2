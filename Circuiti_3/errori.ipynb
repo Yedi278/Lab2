{
 "cells": [
  {
   "cell_type": "code",
   "execution_count": 13,
   "metadata": {},
   "outputs": [],
   "source": [
    "import sympy as sp"
   ]
  },
  {
   "cell_type": "code",
   "execution_count": 20,
   "metadata": {},
   "outputs": [
    {
     "data": {
      "text/latex": [
       "$\\displaystyle \\frac{V_{out}}{V_{in}}$"
      ],
      "text/plain": [
       "V_out/V_in"
      ]
     },
     "execution_count": 20,
     "metadata": {},
     "output_type": "execute_result"
    }
   ],
   "source": [
    "V_in, V_out, V_in_err, V_out_err = sp.symbols('V_in V_out sigma_in sigma_out')\n",
    "\n",
    "expr = V_out/V_in\n",
    "expr"
   ]
  },
  {
   "cell_type": "code",
   "execution_count": 29,
   "metadata": {},
   "outputs": [
    {
     "data": {
      "text/latex": [
       "$\\displaystyle \\sqrt{\\frac{V_{in}^{2} \\sigma_{out}^{2} + V_{out}^{2} \\sigma_{in}^{2}}{V_{in}^{4}}}$"
      ],
      "text/plain": [
       "sqrt((V_in**2*sigma_out**2 + V_out**2*sigma_in**2)/V_in**4)"
      ]
     },
     "execution_count": 29,
     "metadata": {},
     "output_type": "execute_result"
    }
   ],
   "source": [
    "error = sp.sqrt( (sp.diff(expr, V_out)*V_out_err)**2 + (sp.diff(expr, V_in)*V_in_err)**2 )\n",
    "err = sp.simplify(error)\n",
    "err"
   ]
  },
  {
   "cell_type": "code",
   "execution_count": 35,
   "metadata": {},
   "outputs": [
    {
     "data": {
      "text/latex": [
       "$\\displaystyle 3.75 \\cdot 10^{-7}$"
      ],
      "text/plain": [
       "3.75000000000000e-7"
      ]
     },
     "execution_count": 35,
     "metadata": {},
     "output_type": "execute_result"
    }
   ],
   "source": [
    "err.subs({V_out: 3, V_in: 4, V_out_err: 1.2e-6, V_in_err: 1.2e-6})"
   ]
  },
  {
   "cell_type": "code",
   "execution_count": 38,
   "metadata": {},
   "outputs": [
    {
     "data": {
      "text/latex": [
       "$\\displaystyle \\sqrt{\\frac{A^{2} \\sigma_{B}^{2}}{B^{4}} + \\frac{\\sigma_{A}^{2}}{B^{2}}}$"
      ],
      "text/plain": [
       "sqrt(A**2*sigma_B**2/B**4 + sigma_A**2/B**2)"
      ]
     },
     "execution_count": 38,
     "metadata": {},
     "output_type": "execute_result"
    }
   ],
   "source": [
    "A,B, A_err, B_err = sp.symbols('A B sigma_A sigma_B')\n",
    "expr = A/B\n",
    "error = sp.sqrt( (sp.diff(expr, A)*A_err)**2 + (sp.diff(expr, B)*B_err)**2 )\n",
    "error"
   ]
  },
  {
   "cell_type": "code",
   "execution_count": 50,
   "metadata": {},
   "outputs": [
    {
     "data": {
      "text/latex": [
       "$\\displaystyle 1.2577354630364 \\cdot 10^{-11}$"
      ],
      "text/plain": [
       "1.25773546303640e-11"
      ]
     },
     "execution_count": 50,
     "metadata": {},
     "output_type": "execute_result"
    }
   ],
   "source": [
    "error.subs({A: 1.1501424058895807e-05, B: 997, A_err: 4.915495521313445e-09, B_err: 1})"
   ]
  }
 ],
 "metadata": {
  "kernelspec": {
   "display_name": "Python 3",
   "language": "python",
   "name": "python3"
  },
  "language_info": {
   "codemirror_mode": {
    "name": "ipython",
    "version": 3
   },
   "file_extension": ".py",
   "mimetype": "text/x-python",
   "name": "python",
   "nbconvert_exporter": "python",
   "pygments_lexer": "ipython3",
   "version": "3.11.5"
  }
 },
 "nbformat": 4,
 "nbformat_minor": 2
}
