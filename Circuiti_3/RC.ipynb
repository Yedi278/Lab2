{
 "cells": [
  {
   "cell_type": "markdown",
   "metadata": {},
   "source": [
    "# Imports"
   ]
  },
  {
   "cell_type": "code",
   "execution_count": 5,
   "metadata": {},
   "outputs": [],
   "source": [
    "try:\n",
    "  import iminuit\n",
    "  from iminuit import Minuit\n",
    "  from iminuit.cost import LeastSquares, UnbinnedNLL, BinnedNLL, ExtendedUnbinnedNLL\n",
    "except:\n",
    "  Exception('Error Initialising Iminuit')"
   ]
  },
  {
   "cell_type": "code",
   "execution_count": 6,
   "metadata": {},
   "outputs": [],
   "source": [
    "import os\n",
    "from IPython.display import Latex\n",
    "import numpy as np\n",
    "import scipy as sp\n",
    "import matplotlib.pyplot as plt\n",
    "\n",
    "from funcs import *\n",
    "from stats import *"
   ]
  },
  {
   "cell_type": "markdown",
   "metadata": {},
   "source": [
    "# funcs"
   ]
  },
  {
   "cell_type": "markdown",
   "metadata": {},
   "source": [
    "# Calcolo"
   ]
  },
  {
   "cell_type": "code",
   "execution_count": 88,
   "metadata": {},
   "outputs": [],
   "source": [
    "def analize(path, init=0):\n",
    "    RES, SIG, MTH = get_data(path)\n",
    "    N = init\n",
    "    max_res, i_max_res = find_max(RES[1], N, prec=0.00001)\n",
    "    max_sig, i_max_sig = find_max(SIG[1], N, prec=0.00001)\n",
    "    zero_res, i_zero_res = find_zero(RES[1], N, prec=0.00001)\n",
    "    zero_sig, i_zero_sig = find_zero(SIG[1], N, prec=0.00001)\n",
    "\n",
    "    # plt.plot(RES[0], RES[1], label='Resistenza')\n",
    "    # plt.plot(SIG[0], SIG[1], label='Segnale')\n",
    "    \n",
    "\n",
    "    # plt.plot(RES[0][i_max_res], max_res, 'ro')\n",
    "    # plt.plot(SIG[0][i_max_sig], max_sig, 'ro')\n",
    "    # plt.plot(RES[0][i_zero_res], zero_res, 'go')\n",
    "    # plt.plot(SIG[0][i_zero_sig], zero_sig, 'go')\n",
    "\n",
    "    # plt.legend()\n",
    "    # print(\"Vout/Vin = \", max_res/max_sig)\n",
    "    # print(\"fase = \", RES[0][i_zero_res]- SIG[0][i_zero_sig])\n",
    "    \n",
    "    return max_res/max_sig, np.abs(RES[0][i_zero_res]- SIG[0][i_zero_sig])\n"
   ]
  },
  {
   "cell_type": "code",
   "execution_count": 106,
   "metadata": {},
   "outputs": [
    {
     "data": {
      "text/plain": [
       "<matplotlib.collections.PathCollection at 0x763a4f29b080>"
      ]
     },
     "execution_count": 106,
     "metadata": {},
     "output_type": "execute_result"
    },
    {
     "data": {
      "image/png": "[encoded data removed]",
      "text/plain": [
       "<Figure size 640x480 with 1 Axes>"
      ]
     },
     "metadata": {},
     "output_type": "display_data"
    }
   ],
   "source": [
    "mods, fases, freqs = [], [], []\n",
    "\n",
    "for i in os.listdir('data/RC'):\n",
    "    path = 'data/RC/'+i+'/'\n",
    "    mod, fase = analize(path, 300)\n",
    "    mods.append(mod)\n",
    "    fases.append(fase)\n",
    "    freqs.append(float(i))\n",
    "mods.pop()\n",
    "fases.pop()\n",
    "freqs.pop()\n",
    "plt.scatter(freqs,mods)\n",
    "# plt.scatter(freqs,fases)"
   ]
  },
  {
   "cell_type": "code",
   "execution_count": null,
   "metadata": {},
   "outputs": [],
   "source": []
  }
 ],
 "metadata": {
  "kernelspec": {
   "display_name": "Python 3",
   "language": "python",
   "name": "python3"
  },
  "language_info": {
   "codemirror_mode": {
    "name": "ipython",
    "version": 3
   },
   "file_extension": ".py",
   "mimetype": "text/x-python",
   "name": "python",
   "nbconvert_exporter": "python",
   "pygments_lexer": "ipython3",
   "version": "3.12.3"
  }
 },
 "nbformat": 4,
 "nbformat_minor": 2
}
