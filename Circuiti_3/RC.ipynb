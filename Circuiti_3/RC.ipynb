{
 "cells": [
  {
   "cell_type": "markdown",
   "metadata": {},
   "source": [
    "# Imports"
   ]
  },
  {
   "cell_type": "code",
   "execution_count": 5,
   "metadata": {},
   "outputs": [],
   "source": [
    "try:\n",
    "  import iminuit\n",
    "  from iminuit import Minuit\n",
    "  from iminuit.cost import LeastSquares, UnbinnedNLL, BinnedNLL, ExtendedUnbinnedNLL\n",
    "except:\n",
    "  Exception('Error Initialising Iminuit')"
   ]
  },
  {
   "cell_type": "code",
   "execution_count": 6,
   "metadata": {},
   "outputs": [],
   "source": [
    "import os\n",
    "from IPython.display import Latex\n",
    "import numpy as np\n",
    "import scipy as sp\n",
    "import matplotlib.pyplot as plt\n",
    "\n",
    "from funcs import *\n",
    "from stats import *"
   ]
  },
  {
   "cell_type": "markdown",
   "metadata": {},
   "source": [
    "# funcs"
   ]
  },
  {
   "cell_type": "markdown",
   "metadata": {},
   "source": [
    "# Ampiezza"
   ]
  },
  {
   "cell_type": "code",
   "execution_count": 58,
   "metadata": {},
   "outputs": [],
   "source": [
    "def analize(path, init=0):\n",
    "    RES, SIG, MTH = get_data(path)\n",
    "    N = init\n",
    "    max_res, i_max_res = find_max(RES[1], N, prec=0.00001)\n",
    "    max_sig, i_max_sig = find_max(SIG[1], N, prec=0.00001)\n",
    "    zero_res, i_zero_res = find_zero(RES[1], N, prec=0.00001)\n",
    "    zero_sig, i_zero_sig = find_zero(SIG[1], N, prec=0.00001)\n",
    "\n",
    "    # plt.plot(RES[0], RES[1], label='Resistenza')\n",
    "    # plt.plot(SIG[0], SIG[1], label='Segnale')\n",
    "    \n",
    "\n",
    "    # plt.plot(RES[0][i_max_res], max_res, 'ro')\n",
    "    # plt.plot(SIG[0][i_max_sig], max_sig, 'ro')\n",
    "    # plt.plot(RES[0][i_zero_res], zero_res, 'go')\n",
    "    # plt.plot(SIG[0][i_zero_sig], zero_sig, 'go')\n",
    "\n",
    "    # plt.legend()\n",
    "    # print(\"Vout/Vin = \", max_res/max_sig)\n",
    "    # print(\"fase = \", RES[0][i_zero_res]- SIG[0][i_zero_sig])\n",
    "    return max_res/max_sig, RES[0][i_zero_res]- SIG[0][i_zero_sig]\n"
   ]
  },
  {
   "cell_type": "code",
   "execution_count": 64,
   "metadata": {},
   "outputs": [],
   "source": [
    "RC_file = os.listdir('data/RC')"
   ]
  },
  {
   "cell_type": "code",
   "execution_count": 74,
   "metadata": {},
   "outputs": [
    {
     "name": "stdout",
     "output_type": "stream",
     "text": [
      "data/RC/ALL0023/\n",
      "data/RC/ALL0014/\n",
      "data/RC/ALL0019/\n",
      "data/RC/ALL0008/\n",
      "data/RC/ALL0026/\n",
      "data/RC/ALL0021/\n",
      "data/RC/ALL0015/\n",
      "data/RC/ALL0017/\n",
      "data/RC/ALL0006/\n",
      "data/RC/ALL0007/\n",
      "data/RC/ALL0024/\n",
      "data/RC/ALL0020/\n",
      "data/RC/ALL0010/\n",
      "data/RC/ALL0012/\n",
      "data/RC/ALL0005/\n",
      "data/RC/ALL0000/\n",
      "data/RC/ALL0002/\n",
      "data/RC/ALL0016/\n",
      "data/RC/ALL0003/\n",
      "data/RC/ALL0009/\n",
      "data/RC/ALL0022/\n",
      "data/RC/ALL0001/\n",
      "data/RC/ALL0011/\n",
      "data/RC/ALL0004/\n",
      "data/RC/ALL0013/\n",
      "data/RC/ALL0027/\n",
      "data/RC/ALL0018/\n",
      "data/RC/ALL0025/\n"
     ]
    },
    {
     "data": {
      "text/plain": [
       "<matplotlib.collections.PathCollection at 0x763a4f964170>"
      ]
     },
     "execution_count": 74,
     "metadata": {},
     "output_type": "execute_result"
    },
    {
     "data": {
      "image/png": "[encoded data removed]",
      "text/plain": [
       "<Figure size 640x480 with 1 Axes>"
      ]
     },
     "metadata": {},
     "output_type": "display_data"
    }
   ],
   "source": [
    "mods, fases = [], []\n",
    "\n",
    "for i in RC_file:\n",
    "    path = 'data/RC/'+i+'/'\n",
    "    print(path)\n",
    "    mod, fase = analize(path)\n",
    "    mods.append(mod)\n",
    "    fases.append(fase)\n",
    "\n",
    "plt.scatter(mods, fases)"
   ]
  }
 ],
 "metadata": {
  "kernelspec": {
   "display_name": "Python 3",
   "language": "python",
   "name": "python3"
  },
  "language_info": {
   "codemirror_mode": {
    "name": "ipython",
    "version": 3
   },
   "file_extension": ".py",
   "mimetype": "text/x-python",
   "name": "python",
   "nbconvert_exporter": "python",
   "pygments_lexer": "ipython3",
   "version": "3.12.3"
  }
 },
 "nbformat": 4,
 "nbformat_minor": 2
}
